{
 "cells": [
  {
   "cell_type": "code",
   "execution_count": 6,
   "id": "774fbcf4-f215-45e6-b178-11de312dcb17",
   "metadata": {},
   "outputs": [],
   "source": [
    "# Directories\n",
    "train_dir = 'TRAIN'\n",
    "val_dir = 'VAL'\n",
    "test_dir = 'TEST'"
   ]
  },
  {
   "cell_type": "code",
   "execution_count": 11,
   "id": "da5eb104-8dd7-48c8-882e-4a2bd6ef6ca3",
   "metadata": {},
   "outputs": [],
   "source": [
    "import os\n",
    "\n",
    "def check_overlap(dir1, dir2):\n",
    "    \"\"\"Check for overlapping files between two directories.\"\"\"\n",
    "    files1 = set(os.listdir(dir1))\n",
    "    files2 = set(os.listdir(dir2))\n",
    "    common_files = files1.intersection(files2)\n",
    "    return common_files\n",
    "\n",
    "def print_overlap(overlap, name1, name2):\n",
    "    \"\"\"Print overlapping files.\"\"\"\n",
    "    if overlap:\n",
    "        print(f'Overlap found between {name1} and {name2} sets:')\n",
    "        for file in overlap:\n",
    "            print(file)\n",
    "    else:\n",
    "        print(f'No overlap between {name1} and {name2} sets')\n"
   ]
  },
  {
   "cell_type": "code",
   "execution_count": 12,
   "id": "7bae8c87-87dd-4516-81dd-9d8c3c9ef116",
   "metadata": {},
   "outputs": [
    {
     "name": "stdout",
     "output_type": "stream",
     "text": [
      "No overlap between train and validation sets\n",
      "No overlap between train and test sets\n",
      "No overlap between validation and test sets\n",
      "No overlap between train and validation sets\n",
      "No overlap between train and test sets\n",
      "No overlap between validation and test sets\n",
      "No overlap between train and validation sets\n",
      "No overlap between train and test sets\n",
      "No overlap between validation and test sets\n",
      "No overlap between train and validation sets\n",
      "No overlap between train and test sets\n",
      "No overlap between validation and test sets\n"
     ]
    }
   ],
   "source": [
    "train_dir = 'TRAIN/Cyst'\n",
    "val_dir = 'VAL/Cyst'\n",
    "test_dir = 'TEST/Cyst'\n",
    "# Check for overlaps between train, validation, and test directories\n",
    "train_val_overlap = check_overlap(train_dir, val_dir)\n",
    "train_test_overlap = check_overlap(train_dir, test_dir)\n",
    "val_test_overlap = check_overlap(val_dir, test_dir)\n",
    "# Print the results\n",
    "print_overlap(train_val_overlap, 'train', 'validation')\n",
    "print_overlap(train_test_overlap, 'train', 'test')\n",
    "print_overlap(val_test_overlap, 'validation', 'test')\n",
    "\n",
    "train_dir = 'TRAIN/Normal'\n",
    "val_dir = 'VAL/Normal'\n",
    "test_dir = 'TEST/Normal'\n",
    "train_val_overlap = check_overlap(train_dir, val_dir)\n",
    "train_test_overlap = check_overlap(train_dir, test_dir)\n",
    "val_test_overlap = check_overlap(val_dir, test_dir)\n",
    "# Print the results\n",
    "print_overlap(train_val_overlap, 'train', 'validation')\n",
    "print_overlap(train_test_overlap, 'train', 'test')\n",
    "print_overlap(val_test_overlap, 'validation', 'test')\n",
    "\n",
    "train_dir = 'TRAIN/Stone'\n",
    "val_dir = 'VAL/Stone'\n",
    "test_dir = 'TEST/Stone'\n",
    "train_val_overlap = check_overlap(train_dir, val_dir)\n",
    "train_test_overlap = check_overlap(train_dir, test_dir)\n",
    "val_test_overlap = check_overlap(val_dir, test_dir)\n",
    "# Print the results\n",
    "print_overlap(train_val_overlap, 'train', 'validation')\n",
    "print_overlap(train_test_overlap, 'train', 'test')\n",
    "print_overlap(val_test_overlap, 'validation', 'test')\n",
    "\n",
    "train_dir = 'TRAIN/Tumor'\n",
    "val_dir = 'VAL/Tumor'\n",
    "test_dir = 'TEST/Tumor'\n",
    "train_val_overlap = check_overlap(train_dir, val_dir)\n",
    "train_test_overlap = check_overlap(train_dir, test_dir)\n",
    "val_test_overlap = check_overlap(val_dir, test_dir)\n",
    "# Print the results\n",
    "print_overlap(train_val_overlap, 'train', 'validation')\n",
    "print_overlap(train_test_overlap, 'train', 'test')\n",
    "print_overlap(val_test_overlap, 'validation', 'test')\n"
   ]
  },
  {
   "cell_type": "code",
   "execution_count": 4,
   "id": "797ba7a2-5f5a-46cf-80fe-885b8c06e1ee",
   "metadata": {},
   "outputs": [
    {
     "name": "stdout",
     "output_type": "stream",
     "text": [
      "No overlap between train and validation sets\n",
      "No overlap between train and test sets\n",
      "No overlap between validation and test sets\n"
     ]
    }
   ],
   "source": [
    "def list_files(directory):\n",
    "    \"\"\"List all files in a directory, including subdirectories.\"\"\"\n",
    "    file_paths = []\n",
    "    for root, _, files in os.walk(directory):\n",
    "        for file in files:\n",
    "            file_paths.append(os.path.relpath(os.path.join(root, file), directory))\n",
    "    return set(file_paths)\n",
    "\n",
    "def check_overlap(dir1, dir2):\n",
    "    \"\"\"Check for overlapping files between two directories.\"\"\"\n",
    "    files1 = list_files(dir1)\n",
    "    files2 = list_files(dir2)\n",
    "    return files1.intersection(files2)\n",
    "\n",
    "def print_overlap(overlap, name1, name2):\n",
    "    \"\"\"Print overlapping files.\"\"\"\n",
    "    if overlap:\n",
    "        print(f'Overlap found between {name1} and {name2} sets:')\n",
    "        for file in overlap:\n",
    "            print(file)\n",
    "    else:\n",
    "        print(f'No overlap between {name1} and {name2} sets')\n",
    "\n",
    "# Check for overlaps\n",
    "train_val_overlap = check_overlap(train_dir, val_dir)\n",
    "train_test_overlap = check_overlap(train_dir, test_dir)\n",
    "val_test_overlap = check_overlap(val_dir, test_dir)\n",
    "\n",
    "# Print results\n",
    "print_overlap(train_val_overlap, 'train', 'validation')\n",
    "print_overlap(train_test_overlap, 'train', 'test')\n",
    "print_overlap(val_test_overlap, 'validation', 'test')\n"
   ]
  },
  {
   "cell_type": "code",
   "execution_count": 13,
   "id": "fd1958b9-6473-462f-894d-4e5cb638531e",
   "metadata": {},
   "outputs": [
    {
     "ename": "NameError",
     "evalue": "name 'vgg16_model' is not defined",
     "output_type": "error",
     "traceback": [
      "\u001b[1;31m---------------------------------------------------------------------------\u001b[0m",
      "\u001b[1;31mNameError\u001b[0m                                 Traceback (most recent call last)",
      "Cell \u001b[1;32mIn[13], line 2\u001b[0m\n\u001b[0;32m      1\u001b[0m \u001b[38;5;66;03m# Build the model\u001b[39;00m\n\u001b[1;32m----> 2\u001b[0m \u001b[43mvgg16_model\u001b[49m\u001b[38;5;241m.\u001b[39mbuild((\u001b[38;5;28;01mNone\u001b[39;00m, \u001b[38;5;241m224\u001b[39m, \u001b[38;5;241m224\u001b[39m, \u001b[38;5;241m3\u001b[39m))  \u001b[38;5;66;03m# assuming you are using (224, 224, 3) as input shape\u001b[39;00m\n\u001b[0;32m      4\u001b[0m \u001b[38;5;66;03m# Print the summary\u001b[39;00m\n\u001b[0;32m      5\u001b[0m vgg16_model\u001b[38;5;241m.\u001b[39msummary()\n",
      "\u001b[1;31mNameError\u001b[0m: name 'vgg16_model' is not defined"
     ]
    }
   ],
   "source": [
    "# Build the model\n",
    "vgg16_model.build((None, 224, 224, 3))  # assuming you are using (224, 224, 3) as input shape\n",
    "\n",
    "# Print the summary\n",
    "vgg16_model.summary()\n"
   ]
  },
  {
   "cell_type": "code",
   "execution_count": null,
   "id": "b3233e71-a2f5-4ead-972f-e972caccf6bf",
   "metadata": {},
   "outputs": [],
   "source": []
  }
 ],
 "metadata": {
  "kernelspec": {
   "display_name": "Python 3 (ipykernel)",
   "language": "python",
   "name": "python3"
  },
  "language_info": {
   "codemirror_mode": {
    "name": "ipython",
    "version": 3
   },
   "file_extension": ".py",
   "mimetype": "text/x-python",
   "name": "python",
   "nbconvert_exporter": "python",
   "pygments_lexer": "ipython3",
   "version": "3.12.3"
  }
 },
 "nbformat": 4,
 "nbformat_minor": 5
}
