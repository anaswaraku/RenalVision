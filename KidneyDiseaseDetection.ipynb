{
 "cells": [
  {
   "cell_type": "code",
   "execution_count": 5,
   "id": "b3a536e8-60d0-4419-9156-d0ca72c15eac",
   "metadata": {},
   "outputs": [],
   "source": [
    "import cv2\n",
    "import os\n",
    "from imageio.v2 import imread\n",
    "import numpy as np\n",
    "from sklearn.preprocessing import MinMaxScaler\n",
    "import shutil\n",
    "from sklearn.model_selection import train_test_split\n",
    "import plotly.graph_objects as go"
   ]
  },
  {
   "cell_type": "code",
   "execution_count": 10,
   "id": "4bb08afe-4204-43a0-b1da-d2a93153e4e2",
   "metadata": {},
   "outputs": [],
   "source": [
    "data_folders = [\"Cyst\", \"Stone\", \"Tumor\", \"Normal\"]\n",
    "flat_data_arr = []\n",
    "target_arr = []\n",
    "base_dir = 'Dataset'"
   ]
  },
  {
   "cell_type": "markdown",
   "id": "618a4deb-2dad-4f03-8e40-424f9ceb68f3",
   "metadata": {},
   "source": [
    "DATA SPLITTING"
   ]
  },
  {
   "cell_type": "code",
   "execution_count": 13,
   "id": "cf69b7e5-a3e4-4055-a11f-11998f5414ef",
   "metadata": {},
   "outputs": [],
   "source": [
    "# Define the paths for your data\n",
    "data_dir = 'Dataset'\n",
    "train_dir = 'TRAIN'\n",
    "test_dir = 'TEST'\n",
    "val_dir = 'VAL'\n",
    "\n",
    "# Define your categories or classes\n",
    "categories = [\"Cyst\", \"Stone\", \"Tumor\", \"Normal\"]\n",
    "\n",
    "# Create train, test, and validation directories if they don't exist\n",
    "os.makedirs(train_dir, exist_ok=True)\n",
    "os.makedirs(test_dir, exist_ok=True)\n",
    "os.makedirs(val_dir, exist_ok=True)\n",
    "\n",
    "# Split the data into train, test, and validation sets\n",
    "for category in categories:\n",
    "    category_dir = os.path.join(data_dir, category)\n",
    "    files = os.listdir(category_dir)\n",
    "    train_files, test_val_files = train_test_split(files, test_size=0.3, random_state=42)\n",
    "    test_files, val_files = train_test_split(test_val_files, test_size=0.5, random_state=42)\n",
    "\n",
    "    # Move files to appropriate directories\n",
    "    for file in train_files:\n",
    "        src = os.path.join(category_dir, file)\n",
    "        dst = os.path.join(train_dir, category)\n",
    "        os.makedirs(dst, exist_ok=True)\n",
    "        shutil.copy(src, dst)\n",
    "\n",
    "    for file in test_files:\n",
    "        src = os.path.join(category_dir, file)\n",
    "        dst = os.path.join(test_dir, category)\n",
    "        os.makedirs(dst, exist_ok=True)\n",
    "        shutil.copy(src, dst)\n",
    "\n",
    "    for file in val_files:\n",
    "        src = os.path.join(category_dir, file)\n",
    "        dst = os.path.join(val_dir, category)\n",
    "        os.makedirs(dst, exist_ok=True)\n",
    "        shutil.copy(src, dst)\n"
   ]
  },
  {
   "cell_type": "code",
   "execution_count": 6,
   "id": "2150a18b-e764-4c72-bacc-2a340039dd60",
   "metadata": {},
   "outputs": [
    {
     "name": "stdout",
     "output_type": "stream",
     "text": [
      "TRAIN\n",
      "TEST\n",
      "VAL\n",
      "Train set:\n",
      "{'Cyst': 2596, 'Normal': 3553, 'Stone': 963, 'Tumor': 1598}\n",
      "\n",
      "Test set:\n",
      "{'Cyst': 556, 'Normal': 763, 'Stone': 207, 'Tumor': 342}\n",
      "\n",
      "Validation set:\n",
      "{'Cyst': 557, 'Normal': 762, 'Stone': 207, 'Tumor': 343}\n"
     ]
    },
    {
     "data": {
      "application/vnd.plotly.v1+json": {
       "config": {
        "plotlyServerURL": "https://plot.ly"
       },
       "data": [
        {
         "marker": {
          "color": "rgb(26, 118, 255)"
         },
         "name": "Cyst",
         "type": "bar",
         "x": [
          "Training",
          "Testing",
          "Validation"
         ],
         "y": [
          2596,
          556,
          557
         ]
        },
        {
         "marker": {
          "color": "rgb(55, 83, 109)"
         },
         "name": "Stone",
         "type": "bar",
         "x": [
          "Training",
          "Testing",
          "Validation"
         ],
         "y": [
          3553,
          763,
          762
         ]
        },
        {
         "marker": {
          "color": "rgb(0, 204, 150)"
         },
         "name": "Tumor",
         "type": "bar",
         "x": [
          "Training",
          "Testing",
          "Validation"
         ],
         "y": [
          963,
          207,
          207
         ]
        },
        {
         "marker": {
          "color": "rgb(255, 153, 50)"
         },
         "name": "Normal",
         "type": "bar",
         "x": [
          "Training",
          "Testing",
          "Validation"
         ],
         "y": [
          1598,
          342,
          343
         ]
        }
       ],
       "layout": {
        "barmode": "group",
        "template": {
         "data": {
          "bar": [
           {
            "error_x": {
             "color": "#2a3f5f"
            },
            "error_y": {
             "color": "#2a3f5f"
            },
            "marker": {
             "line": {
              "color": "#E5ECF6",
              "width": 0.5
             },
             "pattern": {
              "fillmode": "overlay",
              "size": 10,
              "solidity": 0.2
             }
            },
            "type": "bar"
           }
          ],
          "barpolar": [
           {
            "marker": {
             "line": {
              "color": "#E5ECF6",
              "width": 0.5
             },
             "pattern": {
              "fillmode": "overlay",
              "size": 10,
              "solidity": 0.2
             }
            },
            "type": "barpolar"
           }
          ],
          "carpet": [
           {
            "aaxis": {
             "endlinecolor": "#2a3f5f",
             "gridcolor": "white",
             "linecolor": "white",
             "minorgridcolor": "white",
             "startlinecolor": "#2a3f5f"
            },
            "baxis": {
             "endlinecolor": "#2a3f5f",
             "gridcolor": "white",
             "linecolor": "white",
             "minorgridcolor": "white",
             "startlinecolor": "#2a3f5f"
            },
            "type": "carpet"
           }
          ],
          "choropleth": [
           {
            "colorbar": {
             "outlinewidth": 0,
             "ticks": ""
            },
            "type": "choropleth"
           }
          ],
          "contour": [
           {
            "colorbar": {
             "outlinewidth": 0,
             "ticks": ""
            },
            "colorscale": [
             [
              0,
              "#0d0887"
             ],
             [
              0.1111111111111111,
              "#46039f"
             ],
             [
              0.2222222222222222,
              "#7201a8"
             ],
             [
              0.3333333333333333,
              "#9c179e"
             ],
             [
              0.4444444444444444,
              "#bd3786"
             ],
             [
              0.5555555555555556,
              "#d8576b"
             ],
             [
              0.6666666666666666,
              "#ed7953"
             ],
             [
              0.7777777777777778,
              "#fb9f3a"
             ],
             [
              0.8888888888888888,
              "#fdca26"
             ],
             [
              1,
              "#f0f921"
             ]
            ],
            "type": "contour"
           }
          ],
          "contourcarpet": [
           {
            "colorbar": {
             "outlinewidth": 0,
             "ticks": ""
            },
            "type": "contourcarpet"
           }
          ],
          "heatmap": [
           {
            "colorbar": {
             "outlinewidth": 0,
             "ticks": ""
            },
            "colorscale": [
             [
              0,
              "#0d0887"
             ],
             [
              0.1111111111111111,
              "#46039f"
             ],
             [
              0.2222222222222222,
              "#7201a8"
             ],
             [
              0.3333333333333333,
              "#9c179e"
             ],
             [
              0.4444444444444444,
              "#bd3786"
             ],
             [
              0.5555555555555556,
              "#d8576b"
             ],
             [
              0.6666666666666666,
              "#ed7953"
             ],
             [
              0.7777777777777778,
              "#fb9f3a"
             ],
             [
              0.8888888888888888,
              "#fdca26"
             ],
             [
              1,
              "#f0f921"
             ]
            ],
            "type": "heatmap"
           }
          ],
          "heatmapgl": [
           {
            "colorbar": {
             "outlinewidth": 0,
             "ticks": ""
            },
            "colorscale": [
             [
              0,
              "#0d0887"
             ],
             [
              0.1111111111111111,
              "#46039f"
             ],
             [
              0.2222222222222222,
              "#7201a8"
             ],
             [
              0.3333333333333333,
              "#9c179e"
             ],
             [
              0.4444444444444444,
              "#bd3786"
             ],
             [
              0.5555555555555556,
              "#d8576b"
             ],
             [
              0.6666666666666666,
              "#ed7953"
             ],
             [
              0.7777777777777778,
              "#fb9f3a"
             ],
             [
              0.8888888888888888,
              "#fdca26"
             ],
             [
              1,
              "#f0f921"
             ]
            ],
            "type": "heatmapgl"
           }
          ],
          "histogram": [
           {
            "marker": {
             "pattern": {
              "fillmode": "overlay",
              "size": 10,
              "solidity": 0.2
             }
            },
            "type": "histogram"
           }
          ],
          "histogram2d": [
           {
            "colorbar": {
             "outlinewidth": 0,
             "ticks": ""
            },
            "colorscale": [
             [
              0,
              "#0d0887"
             ],
             [
              0.1111111111111111,
              "#46039f"
             ],
             [
              0.2222222222222222,
              "#7201a8"
             ],
             [
              0.3333333333333333,
              "#9c179e"
             ],
             [
              0.4444444444444444,
              "#bd3786"
             ],
             [
              0.5555555555555556,
              "#d8576b"
             ],
             [
              0.6666666666666666,
              "#ed7953"
             ],
             [
              0.7777777777777778,
              "#fb9f3a"
             ],
             [
              0.8888888888888888,
              "#fdca26"
             ],
             [
              1,
              "#f0f921"
             ]
            ],
            "type": "histogram2d"
           }
          ],
          "histogram2dcontour": [
           {
            "colorbar": {
             "outlinewidth": 0,
             "ticks": ""
            },
            "colorscale": [
             [
              0,
              "#0d0887"
             ],
             [
              0.1111111111111111,
              "#46039f"
             ],
             [
              0.2222222222222222,
              "#7201a8"
             ],
             [
              0.3333333333333333,
              "#9c179e"
             ],
             [
              0.4444444444444444,
              "#bd3786"
             ],
             [
              0.5555555555555556,
              "#d8576b"
             ],
             [
              0.6666666666666666,
              "#ed7953"
             ],
             [
              0.7777777777777778,
              "#fb9f3a"
             ],
             [
              0.8888888888888888,
              "#fdca26"
             ],
             [
              1,
              "#f0f921"
             ]
            ],
            "type": "histogram2dcontour"
           }
          ],
          "mesh3d": [
           {
            "colorbar": {
             "outlinewidth": 0,
             "ticks": ""
            },
            "type": "mesh3d"
           }
          ],
          "parcoords": [
           {
            "line": {
             "colorbar": {
              "outlinewidth": 0,
              "ticks": ""
             }
            },
            "type": "parcoords"
           }
          ],
          "pie": [
           {
            "automargin": true,
            "type": "pie"
           }
          ],
          "scatter": [
           {
            "fillpattern": {
             "fillmode": "overlay",
             "size": 10,
             "solidity": 0.2
            },
            "type": "scatter"
           }
          ],
          "scatter3d": [
           {
            "line": {
             "colorbar": {
              "outlinewidth": 0,
              "ticks": ""
             }
            },
            "marker": {
             "colorbar": {
              "outlinewidth": 0,
              "ticks": ""
             }
            },
            "type": "scatter3d"
           }
          ],
          "scattercarpet": [
           {
            "marker": {
             "colorbar": {
              "outlinewidth": 0,
              "ticks": ""
             }
            },
            "type": "scattercarpet"
           }
          ],
          "scattergeo": [
           {
            "marker": {
             "colorbar": {
              "outlinewidth": 0,
              "ticks": ""
             }
            },
            "type": "scattergeo"
           }
          ],
          "scattergl": [
           {
            "marker": {
             "colorbar": {
              "outlinewidth": 0,
              "ticks": ""
             }
            },
            "type": "scattergl"
           }
          ],
          "scattermapbox": [
           {
            "marker": {
             "colorbar": {
              "outlinewidth": 0,
              "ticks": ""
             }
            },
            "type": "scattermapbox"
           }
          ],
          "scatterpolar": [
           {
            "marker": {
             "colorbar": {
              "outlinewidth": 0,
              "ticks": ""
             }
            },
            "type": "scatterpolar"
           }
          ],
          "scatterpolargl": [
           {
            "marker": {
             "colorbar": {
              "outlinewidth": 0,
              "ticks": ""
             }
            },
            "type": "scatterpolargl"
           }
          ],
          "scatterternary": [
           {
            "marker": {
             "colorbar": {
              "outlinewidth": 0,
              "ticks": ""
             }
            },
            "type": "scatterternary"
           }
          ],
          "surface": [
           {
            "colorbar": {
             "outlinewidth": 0,
             "ticks": ""
            },
            "colorscale": [
             [
              0,
              "#0d0887"
             ],
             [
              0.1111111111111111,
              "#46039f"
             ],
             [
              0.2222222222222222,
              "#7201a8"
             ],
             [
              0.3333333333333333,
              "#9c179e"
             ],
             [
              0.4444444444444444,
              "#bd3786"
             ],
             [
              0.5555555555555556,
              "#d8576b"
             ],
             [
              0.6666666666666666,
              "#ed7953"
             ],
             [
              0.7777777777777778,
              "#fb9f3a"
             ],
             [
              0.8888888888888888,
              "#fdca26"
             ],
             [
              1,
              "#f0f921"
             ]
            ],
            "type": "surface"
           }
          ],
          "table": [
           {
            "cells": {
             "fill": {
              "color": "#EBF0F8"
             },
             "line": {
              "color": "white"
             }
            },
            "header": {
             "fill": {
              "color": "#C8D4E3"
             },
             "line": {
              "color": "white"
             }
            },
            "type": "table"
           }
          ]
         },
         "layout": {
          "annotationdefaults": {
           "arrowcolor": "#2a3f5f",
           "arrowhead": 0,
           "arrowwidth": 1
          },
          "autotypenumbers": "strict",
          "coloraxis": {
           "colorbar": {
            "outlinewidth": 0,
            "ticks": ""
           }
          },
          "colorscale": {
           "diverging": [
            [
             0,
             "#8e0152"
            ],
            [
             0.1,
             "#c51b7d"
            ],
            [
             0.2,
             "#de77ae"
            ],
            [
             0.3,
             "#f1b6da"
            ],
            [
             0.4,
             "#fde0ef"
            ],
            [
             0.5,
             "#f7f7f7"
            ],
            [
             0.6,
             "#e6f5d0"
            ],
            [
             0.7,
             "#b8e186"
            ],
            [
             0.8,
             "#7fbc41"
            ],
            [
             0.9,
             "#4d9221"
            ],
            [
             1,
             "#276419"
            ]
           ],
           "sequential": [
            [
             0,
             "#0d0887"
            ],
            [
             0.1111111111111111,
             "#46039f"
            ],
            [
             0.2222222222222222,
             "#7201a8"
            ],
            [
             0.3333333333333333,
             "#9c179e"
            ],
            [
             0.4444444444444444,
             "#bd3786"
            ],
            [
             0.5555555555555556,
             "#d8576b"
            ],
            [
             0.6666666666666666,
             "#ed7953"
            ],
            [
             0.7777777777777778,
             "#fb9f3a"
            ],
            [
             0.8888888888888888,
             "#fdca26"
            ],
            [
             1,
             "#f0f921"
            ]
           ],
           "sequentialminus": [
            [
             0,
             "#0d0887"
            ],
            [
             0.1111111111111111,
             "#46039f"
            ],
            [
             0.2222222222222222,
             "#7201a8"
            ],
            [
             0.3333333333333333,
             "#9c179e"
            ],
            [
             0.4444444444444444,
             "#bd3786"
            ],
            [
             0.5555555555555556,
             "#d8576b"
            ],
            [
             0.6666666666666666,
             "#ed7953"
            ],
            [
             0.7777777777777778,
             "#fb9f3a"
            ],
            [
             0.8888888888888888,
             "#fdca26"
            ],
            [
             1,
             "#f0f921"
            ]
           ]
          },
          "colorway": [
           "#636efa",
           "#EF553B",
           "#00cc96",
           "#ab63fa",
           "#FFA15A",
           "#19d3f3",
           "#FF6692",
           "#B6E880",
           "#FF97FF",
           "#FECB52"
          ],
          "font": {
           "color": "#2a3f5f"
          },
          "geo": {
           "bgcolor": "white",
           "lakecolor": "white",
           "landcolor": "#E5ECF6",
           "showlakes": true,
           "showland": true,
           "subunitcolor": "white"
          },
          "hoverlabel": {
           "align": "left"
          },
          "hovermode": "closest",
          "mapbox": {
           "style": "light"
          },
          "paper_bgcolor": "white",
          "plot_bgcolor": "#E5ECF6",
          "polar": {
           "angularaxis": {
            "gridcolor": "white",
            "linecolor": "white",
            "ticks": ""
           },
           "bgcolor": "#E5ECF6",
           "radialaxis": {
            "gridcolor": "white",
            "linecolor": "white",
            "ticks": ""
           }
          },
          "scene": {
           "xaxis": {
            "backgroundcolor": "#E5ECF6",
            "gridcolor": "white",
            "gridwidth": 2,
            "linecolor": "white",
            "showbackground": true,
            "ticks": "",
            "zerolinecolor": "white"
           },
           "yaxis": {
            "backgroundcolor": "#E5ECF6",
            "gridcolor": "white",
            "gridwidth": 2,
            "linecolor": "white",
            "showbackground": true,
            "ticks": "",
            "zerolinecolor": "white"
           },
           "zaxis": {
            "backgroundcolor": "#E5ECF6",
            "gridcolor": "white",
            "gridwidth": 2,
            "linecolor": "white",
            "showbackground": true,
            "ticks": "",
            "zerolinecolor": "white"
           }
          },
          "shapedefaults": {
           "line": {
            "color": "#2a3f5f"
           }
          },
          "ternary": {
           "aaxis": {
            "gridcolor": "white",
            "linecolor": "white",
            "ticks": ""
           },
           "baxis": {
            "gridcolor": "white",
            "linecolor": "white",
            "ticks": ""
           },
           "bgcolor": "#E5ECF6",
           "caxis": {
            "gridcolor": "white",
            "linecolor": "white",
            "ticks": ""
           }
          },
          "title": {
           "x": 0.05
          },
          "xaxis": {
           "automargin": true,
           "gridcolor": "white",
           "linecolor": "white",
           "ticks": "",
           "title": {
            "standoff": 15
           },
           "zerolinecolor": "white",
           "zerolinewidth": 2
          },
          "yaxis": {
           "automargin": true,
           "gridcolor": "white",
           "linecolor": "white",
           "ticks": "",
           "title": {
            "standoff": 15
           },
           "zerolinecolor": "white",
           "zerolinewidth": 2
          }
         }
        }
       }
      }
     },
     "metadata": {},
     "output_type": "display_data"
    }
   ],
   "source": [
    "#To get count of data\n",
    "def count_files(directory):\n",
    "    print(directory)\n",
    "    counts = {}\n",
    "    for category in os.listdir(directory):\n",
    "        category_dir = os.path.join(directory, category)\n",
    "        counts[category] = len(os.listdir(category_dir))\n",
    "    return counts\n",
    "\n",
    "train_dir = 'TRAIN'\n",
    "test_dir = 'TEST'\n",
    "val_dir = 'VAL'\n",
    "\n",
    "train_counts = count_files(train_dir)\n",
    "test_counts = count_files(test_dir)\n",
    "val_counts = count_files(val_dir)\n",
    "\n",
    "print(\"Train set:\")\n",
    "print(train_counts)\n",
    "print(\"\\nTest set:\")\n",
    "print(test_counts)\n",
    "print(\"\\nValidation set:\")\n",
    "print(val_counts)\n",
    "\n",
    "#Cyst Stone Tumor Normal\n",
    "categories = ['Training', 'Testing', 'Validation']\n",
    "train = list(train_counts.values())\n",
    "test = list(test_counts.values())\n",
    "val = list(val_counts.values())\n",
    "\n",
    "cyst=[train[0],test[0],val[0]]\n",
    "stone=[train[1],test[1],val[1]]\n",
    "tumor=[train[2],test[2],val[2]]\n",
    "normal=[train[3],test[3],val[3]]\n",
    "\n",
    "trace1 = go.Bar(\n",
    "   x = categories,\n",
    "   y = cyst,\n",
    "   name = 'Cyst',\n",
    "   marker=dict(color='rgb(26, 118, 255)')\n",
    ")\n",
    "trace2 = go.Bar(\n",
    "   x = categories,\n",
    "   y = stone,\n",
    "   name = 'Stone',\n",
    "   marker=dict(color='rgb(55, 83, 109)')\n",
    ")\n",
    "trace3 = go.Bar(\n",
    "   x = categories,\n",
    "   y = tumor,\n",
    "   name = 'Tumor',\n",
    "   marker=dict(color='rgb(0, 204, 150)')\n",
    ")\n",
    "trace4 = go.Bar(\n",
    "   x = categories,\n",
    "   y = normal,\n",
    "   name = 'Normal',\n",
    "   marker=dict(color='rgb(255, 153, 50)')\n",
    ")\n",
    "data = [trace1, trace2, trace3,trace4]\n",
    "layout = go.Layout(barmode = 'group')\n",
    "fig = go.Figure(data = data, layout = layout)\n",
    "go.Figure(fig).show()"
   ]
  },
  {
   "cell_type": "code",
   "execution_count": null,
   "id": "abb7c769-fbd6-4e7d-baf8-f4835c6c1bd9",
   "metadata": {},
   "outputs": [],
   "source": [
    "import os\n",
    "\n",
    "\n",
    "def count_files(directory):\n",
    "    counts = {}\n",
    "    for category in os.listdir(directory):\n",
    "        category_dir = os.path.join(directory, category)\n",
    "        counts[category] = len(os.listdir(category_dir))\n",
    "    return counts\n",
    "\n",
    "train_counts = count_files(train_dir)\n",
    "test_counts = count_files(test_dir)\n",
    "val_counts = count_files(val_dir)\n",
    "\n",
    "print(\"Train set:\")\n",
    "print(train_counts)\n",
    "print(\"\\nTest set:\")\n",
    "print(test_counts)\n",
    "print(\"\\nValidation set:\")\n",
    "print(val_counts)\n",
    "\n",
    "#Cyst Stone Tumor Normal\n",
    "categories = ['Training', 'Testing', 'Validation']\n",
    "train = list(train_counts.values())\n",
    "test = list(test_counts.values())\n",
    "val = list(val_counts.values())\n",
    "\n",
    "cyst=[train[0],test[0],val[0]]\n",
    "stone=[train[1],test[1],val[1]]\n",
    "tumor=[train[2],test[2],val[2]]\n",
    "normal=[train[3],test[3],val[3]]\n",
    "\n",
    "trace1 = go.Bar(\n",
    "   x = categories,\n",
    "   y = cyst,\n",
    "   name = 'Cyst',\n",
    "   marker=dict(color='rgb(26, 118, 255)')\n",
    ")\n",
    "trace2 = go.Bar(\n",
    "   x = categories,\n",
    "   y = stone,\n",
    "   name = 'Stone',\n",
    "   marker=dict(color='rgb(55, 83, 109)')\n",
    ")\n",
    "trace3 = go.Bar(\n",
    "   x = categories,\n",
    "   y = tumor,\n",
    "   name = 'Tumor',\n",
    "   marker=dict(color='rgb(0, 204, 150)')\n",
    ")\n",
    "trace4 = go.Bar(\n",
    "   x = categories,\n",
    "   y = normal,\n",
    "   name = 'Normal',\n",
    "   marker=dict(color='rgb(255, 153, 50)')\n",
    ")\n",
    "data = [trace1, trace2, trace3,trace4]\n",
    "layout = go.Layout(barmode = 'group')\n",
    "fig = go.Figure(data = data, layout = layout)\n",
    "go.Figure(fig).show()"
   ]
  },
  {
   "cell_type": "markdown",
   "id": "b1c8bc16-fab8-4962-a10a-b3f9ba8a3d62",
   "metadata": {},
   "source": [
    "DATA PREPROCESSING CLAHE,GAUSSIAN_BLUR,CONTOUR DETECTION(cv2.findContour),WATERSHED_SEGMENTATION"
   ]
  },
  {
   "cell_type": "code",
   "execution_count": 15,
   "id": "9095a764-b849-4c34-85d6-7ba7b00d9444",
   "metadata": {},
   "outputs": [
    {
     "name": "stdout",
     "output_type": "stream",
     "text": [
      "Folder Path: TRAIN\\Cyst\n",
      "Folder Path: TRAIN\\Stone\n",
      "Folder Path: TRAIN\\Tumor\n",
      "Folder Path: TRAIN\\Normal\n",
      "Folder Path: TEST\\Cyst\n",
      "Folder Path: TEST\\Stone\n",
      "Folder Path: TEST\\Tumor\n",
      "Folder Path: TEST\\Normal\n",
      "Folder Path: VAL\\Cyst\n",
      "Folder Path: VAL\\Stone\n",
      "Folder Path: VAL\\Tumor\n",
      "Folder Path: VAL\\Normal\n",
      "Preprocess Completed\n",
      "Preprocess Completed\n"
     ]
    }
   ],
   "source": [
    "def clahe(image_path):\n",
    "    image = cv2.imread(image_path)\n",
    "    # Convert the image to grayscale\n",
    "    gray_image = cv2.cvtColor(image, cv2.COLOR_BGR2GRAY)\n",
    "    # Apply CLAHE\n",
    "    clahe = cv2.createCLAHE(clipLimit=2.0, tileGridSize=(8,8))\n",
    "    clahe_image = clahe.apply(gray_image)\n",
    "    return clahe_image\n",
    "\n",
    "def gaussian_blur(image):\n",
    "    #image = cv2.imread(image_path)\n",
    "    kernel_size = (5, 5)\n",
    "    sigma = 0\n",
    "    filtered_image = cv2.GaussianBlur(image, kernel_size, sigma)\n",
    "    return filtered_image\n",
    "\n",
    "def find_contour(image):\n",
    "# Preprocessing\n",
    "    blurred = cv2.GaussianBlur(image, (5, 5), 0)\n",
    "    _, binary_image = cv2.threshold(blurred, 0, 255, cv2.THRESH_BINARY + cv2.THRESH_OTSU)\n",
    "\n",
    "    # Contour detection\n",
    "    contours, _ = cv2.findContours(binary_image, cv2.RETR_EXTERNAL, cv2.CHAIN_APPROX_SIMPLE)\n",
    "\n",
    "    # Filter contours based on area or other criteria if necessary\n",
    "    # For example, you can iterate through contours and filter based on contour area:\n",
    "    # filtered_contours = [cnt for cnt in contours if cv2.contourArea(cnt) > min_area]\n",
    "\n",
    "    # Draw contours on original image\n",
    "    contour_image = image.copy()\n",
    "    cv2.drawContours(contour_image, contours, -1, (0, 255, 0), 2)\n",
    "    contour_image = cv2.drawContours(cv2.cvtColor(image, cv2.COLOR_GRAY2BGR), contours, -1, (0, 255, 0), 2)\n",
    "    return contour_image\n",
    "\n",
    "\n",
    "\n",
    "def watershed_segmentation(image):\n",
    "    gray = cv2.cvtColor(image, cv2.COLOR_BGR2GRAY)  # Convert image to grayscale\n",
    "    ret, thresh = cv2.threshold(gray, 0, 255, cv2.THRESH_BINARY_INV+cv2.THRESH_OTSU)\n",
    "    kernel = np.ones((3,3), np.uint8)\n",
    "    opening = cv2.morphologyEx(thresh, cv2.MORPH_OPEN, kernel, iterations=2)\n",
    "    sure_bg = cv2.dilate(opening, kernel, iterations=3)\n",
    "    dist_transform = cv2.distanceTransform(opening, cv2.DIST_L2, 5)\n",
    "    ret, sure_fg = cv2.threshold(dist_transform, 0.7*dist_transform.max(), 255, 0)\n",
    "    sure_fg = np.uint8(sure_fg)\n",
    "    unknown = cv2.subtract(sure_bg, sure_fg)\n",
    "\n",
    "    # Marker labeling\n",
    "    ret, markers = cv2.connectedComponents(sure_fg)\n",
    "\n",
    "    # Add one to all labels so that sure background is not 0, but 1\n",
    "    markers = markers + 1\n",
    "\n",
    "    # Mark the unknown region with zero\n",
    "    markers[unknown == 255] = 0\n",
    "\n",
    "    # Apply watershed algorithm\n",
    "    markers = cv2.watershed(image, markers)\n",
    "\n",
    "    # Overlay segmentation result on original image\n",
    "    image[markers == -1] = [255, 0, 0]  # Mark watershed boundaries\n",
    "\n",
    "    return image\n",
    "\n",
    "\n",
    "\n",
    "directories = ['TRAIN','TEST','VAL']  # List of base directories\n",
    "\n",
    "for directory in directories:\n",
    "    for folder in data_folders:\n",
    "        folder_path = os.path.join(directory, folder)\n",
    "        print(\"Folder Path:\", folder_path)\n",
    "        \n",
    "        for filename in os.listdir(folder_path):\n",
    "            if filename.endswith(\".jpg\"):\n",
    "                image_path = os.path.join(folder_path, filename)\n",
    "                \n",
    "                # Preprocess image\n",
    "                preprocessed_image = clahe(image_path)\n",
    "                preprocessed_image = gaussian_blur(preprocessed_image)\n",
    "                preprocessed_image = find_contour(preprocessed_image)\n",
    "                preprocessed_image = watershed_segmentation(preprocessed_image)\n",
    "\n",
    "                # Save preprocessed image in the same location\n",
    "                output_path = os.path.join(folder_path, filename)\n",
    "                cv2.imwrite(output_path, preprocessed_image)\n",
    "\n",
    "print('Preprocess Completed')\n",
    "print('Preprocess Completed')"
   ]
  }
 ],
 "metadata": {
  "kernelspec": {
   "display_name": "Python 3 (ipykernel)",
   "language": "python",
   "name": "python3"
  },
  "language_info": {
   "codemirror_mode": {
    "name": "ipython",
    "version": 3
   },
   "file_extension": ".py",
   "mimetype": "text/x-python",
   "name": "python",
   "nbconvert_exporter": "python",
   "pygments_lexer": "ipython3",
   "version": "3.12.3"
  }
 },
 "nbformat": 4,
 "nbformat_minor": 5
}
